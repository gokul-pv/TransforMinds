{
 "cells": [
  {
   "cell_type": "code",
   "execution_count": 1,
   "metadata": {},
   "outputs": [],
   "source": [
    "from config import get_config\n",
    "\n",
    "cfg = get_config()\n",
    "cfg['batch_size'] = 16\n",
    "cfg['preload'] = None\n",
    "cfg['num_epochs'] = 30"
   ]
  },
  {
   "cell_type": "code",
   "execution_count": 2,
   "metadata": {},
   "outputs": [
    {
     "name": "stdout",
     "output_type": "stream",
     "text": [
      "Using device: cuda\n",
      "Max length of source sentence: 309\n",
      "Max length of target sentence: 274\n"
     ]
    },
    {
     "name": "stderr",
     "output_type": "stream",
     "text": [
      "Processing Epoch 00: 100%|██████████| 1819/1819 [21:51<00:00,  1.39it/s, loss=5.534]\n",
      "stty: 'standard input': Inappropriate ioctl for device\n"
     ]
    },
    {
     "name": "stdout",
     "output_type": "stream",
     "text": [
      "--------------------------------------------------------------------------------\n",
      "    SOURCE: He sat down, wrapped a rug round his legs, and lit a cigar. 'How is it you don't smoke.?\n",
      "    TARGET: Sedette, avvoltolò le gambe in uno scialle tigrato, e accese un sigaro. — Com’è che non fumi?\n",
      " PREDICTED: Il suo suo momento , e la sua sua , e non si , e non è fatto a un ’ altra .\n",
      "--------------------------------------------------------------------------------\n",
      "    SOURCE: When I came down from my apartment in the tree, I looked about me again, and the first thing I found was the boat, which lay, as the wind and the sea had tossed her up, upon the land, about two miles on my right hand.\n",
      "    TARGET: Sceso giù dal mio appartamento, tornai a guardarmi all’intorno, e la prima cosa occorsami fu la povera nostra scialuppa, che sbattuta dal mare e dal vento era venuta a stare sopra la spiaggia alla mia diritta in una distanza di circa due miglia.\n",
      " PREDICTED: La mia mia mia mia mia , e , e , e , e , e , e , e , e , e , e , e , e , e , e , e , e , e , e , e , e , e , e , e , e , e , e , e , e .\n",
      "--------------------------------------------------------------------------------\n"
     ]
    },
    {
     "name": "stderr",
     "output_type": "stream",
     "text": [
      "/home/zeus/miniconda3/envs/cloudspace/lib/python3.10/site-packages/torchmetrics/utilities/prints.py:62: FutureWarning: Importing `CharErrorRate` from `torchmetrics` was deprecated and will be removed in 2.0. Import `CharErrorRate` from `torchmetrics.text` instead.\n",
      "  _future_warning(\n",
      "/home/zeus/miniconda3/envs/cloudspace/lib/python3.10/site-packages/torchmetrics/utilities/prints.py:62: FutureWarning: Importing `WordErrorRate` from `torchmetrics` was deprecated and will be removed in 2.0. Import `WordErrorRate` from `torchmetrics.text` instead.\n",
      "  _future_warning(\n",
      "/home/zeus/miniconda3/envs/cloudspace/lib/python3.10/site-packages/torchmetrics/utilities/prints.py:62: FutureWarning: Importing `BLEUScore` from `torchmetrics` was deprecated and will be removed in 2.0. Import `BLEUScore` from `torchmetrics.text` instead.\n",
      "  _future_warning(\n",
      "Processing Epoch 01: 100%|██████████| 1819/1819 [21:51<00:00,  1.39it/s, loss=5.219]\n",
      "stty: 'standard input': Inappropriate ioctl for device\n"
     ]
    },
    {
     "name": "stdout",
     "output_type": "stream",
     "text": [
      "--------------------------------------------------------------------------------\n",
      "    SOURCE: I had promised Sviyazhsky to go to the Agricultural Society's meeting, but I'll come with you if you like,' replied Levin.\n",
      "    TARGET: Ho promesso a Svijazskij di andare alla società di economia rurale. Ma andiamo — disse Levin.\n",
      " PREDICTED: Io mi disse che il suo giorno , ma io mi disse , ma io non ho fatto nulla — disse Levin .\n",
      "--------------------------------------------------------------------------------\n",
      "    SOURCE: In Petersburg he always felt that he had shaken off ten years.\n",
      "    TARGET: A Pietroburgo invece sentiva sempre che gli andavano via dieci anni dal groppone.\n",
      " PREDICTED: In quel momento era stato di lui , che era stato un ’ altra .\n",
      "--------------------------------------------------------------------------------\n"
     ]
    },
    {
     "name": "stderr",
     "output_type": "stream",
     "text": [
      "Processing Epoch 02: 100%|██████████| 1819/1819 [21:51<00:00,  1.39it/s, loss=5.583]\n",
      "stty: 'standard input': Inappropriate ioctl for device\n"
     ]
    },
    {
     "name": "stdout",
     "output_type": "stream",
     "text": [
      "--------------------------------------------------------------------------------\n",
      "    SOURCE: It got shut up finally at 10.5 p.m., and then there remained the hampers to do.\n",
      "    TARGET: Fu chiusa finalmente alle dieci e cinque pomeridiane, e allora rimanevano da riempire le ceste.\n",
      " PREDICTED: Si a e le .\n",
      "--------------------------------------------------------------------------------\n",
      "    SOURCE: He has looked at me coldly and severely.\n",
      "    TARGET: Mi ha guardato con un’espressione fredda, severa.\n",
      " PREDICTED: È un po ’ e mi ha detto .\n",
      "--------------------------------------------------------------------------------\n"
     ]
    },
    {
     "name": "stderr",
     "output_type": "stream",
     "text": [
      "Processing Epoch 03: 100%|██████████| 1819/1819 [21:51<00:00,  1.39it/s, loss=4.883]\n",
      "stty: 'standard input': Inappropriate ioctl for device\n"
     ]
    },
    {
     "name": "stdout",
     "output_type": "stream",
     "text": [
      "--------------------------------------------------------------------------------\n",
      "    SOURCE: The news of her friendship with Madame Stahl and Varenka, and the information the Princess gave him of the change she had observed in Kitty, disturbed him and aroused in him his usual feelings of jealousy toward anything that drew his daughter away from him and of fear lest she might escape from his influence into regions inaccessible to him.\n",
      "    TARGET: La notizia dell’amicizia di Kitty con la signora Stahl e Varen’ka e le osservazioni della principessa su di un certo cambiamento prodottosi in Kitty, sconcertarono il principe e ridestarono in lui il solito senso di gelosia verso tutto quello che appassionava la figlia a sua insaputa, e la paura che la figlia sfuggisse alla sua influenza, rifugiandosi in qualche regione a lui inaccessibile.\n",
      " PREDICTED: La signora Stahl la signora Stahl e la signora Stahl , e la principessa Stahl , la principessa Stahl , la guardò con la sua posizione , e la sua espressione di Kitty , che aveva detto a lei , e che aveva detto che egli aveva detto che il suo amore , e che egli aveva fatto il suo dovere , e che non avrebbe potuto .\n",
      "--------------------------------------------------------------------------------\n",
      "    SOURCE: 'He is not a man, not a human being. He is... a doll!\n",
      "    TARGET: — Non è un uomo, non è un uomo, è un fantoccio.\n",
      " PREDICTED: — Non è un uomo , non è un uomo .\n",
      "--------------------------------------------------------------------------------\n"
     ]
    },
    {
     "name": "stderr",
     "output_type": "stream",
     "text": [
      "Processing Epoch 04:  32%|███▏      | 578/1819 [06:57<14:55,  1.39it/s, loss=4.597]\n"
     ]
    },
    {
     "ename": "KeyboardInterrupt",
     "evalue": "",
     "output_type": "error",
     "traceback": [
      "\u001b[0;31m---------------------------------------------------------------------------\u001b[0m",
      "\u001b[0;31mKeyboardInterrupt\u001b[0m                         Traceback (most recent call last)",
      "Cell \u001b[0;32mIn[2], line 3\u001b[0m\n\u001b[1;32m      1\u001b[0m \u001b[38;5;28;01mfrom\u001b[39;00m \u001b[38;5;21;01mtrain\u001b[39;00m \u001b[38;5;28;01mimport\u001b[39;00m train_model\n\u001b[0;32m----> 3\u001b[0m \u001b[43mtrain_model\u001b[49m\u001b[43m(\u001b[49m\u001b[43mcfg\u001b[49m\u001b[43m)\u001b[49m\n",
      "File \u001b[0;32m~/TransforMinds/train.py:232\u001b[0m, in \u001b[0;36mtrain_model\u001b[0;34m(config)\u001b[0m\n\u001b[1;32m    229\u001b[0m proj_output \u001b[38;5;241m=\u001b[39m model\u001b[38;5;241m.\u001b[39mproject(decoder_output)  \u001b[38;5;66;03m# (B, seq_len, vocab_size)\u001b[39;00m\n\u001b[1;32m    231\u001b[0m \u001b[38;5;66;03m# Compare the output with the label\u001b[39;00m\n\u001b[0;32m--> 232\u001b[0m label \u001b[38;5;241m=\u001b[39m \u001b[43mbatch\u001b[49m\u001b[43m[\u001b[49m\u001b[38;5;124;43m'\u001b[39;49m\u001b[38;5;124;43mlabel\u001b[39;49m\u001b[38;5;124;43m'\u001b[39;49m\u001b[43m]\u001b[49m\u001b[38;5;241;43m.\u001b[39;49m\u001b[43mto\u001b[49m\u001b[43m(\u001b[49m\u001b[43mdevice\u001b[49m\u001b[43m)\u001b[49m  \u001b[38;5;66;03m# (B, seq_len)\u001b[39;00m\n\u001b[1;32m    234\u001b[0m \u001b[38;5;66;03m# Compute the loss using a simple cross-entropy\u001b[39;00m\n\u001b[1;32m    235\u001b[0m loss \u001b[38;5;241m=\u001b[39m loss_fn(proj_output\u001b[38;5;241m.\u001b[39mview(\u001b[38;5;241m-\u001b[39m\u001b[38;5;241m1\u001b[39m, tokenizer_tgt\u001b[38;5;241m.\u001b[39mget_vocab_size()), label\u001b[38;5;241m.\u001b[39mview(\u001b[38;5;241m-\u001b[39m\u001b[38;5;241m1\u001b[39m))\n",
      "\u001b[0;31mKeyboardInterrupt\u001b[0m: "
     ]
    }
   ],
   "source": [
    "from train import train_model\n",
    "\n",
    "train_model(cfg)"
   ]
  },
  {
   "cell_type": "code",
   "execution_count": null,
   "metadata": {},
   "outputs": [],
   "source": []
  }
 ],
 "metadata": {
  "kernelspec": {
   "display_name": "ann",
   "language": "python",
   "name": "python3"
  },
  "language_info": {
   "codemirror_mode": {
    "name": "ipython",
    "version": 3
   },
   "file_extension": ".py",
   "mimetype": "text/x-python",
   "name": "python",
   "nbconvert_exporter": "python",
   "pygments_lexer": "ipython3",
   "version": "3.10.10"
  }
 },
 "nbformat": 4,
 "nbformat_minor": 2
}
